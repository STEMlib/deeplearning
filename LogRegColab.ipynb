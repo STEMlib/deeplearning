{
  "nbformat": 4,
  "nbformat_minor": 0,
  "metadata": {
    "colab": {
      "name": "Untitled0.ipynb",
      "provenance": [],
      "authorship_tag": "ABX9TyMoHu8pfEm4NIGu7YkesICw",
      "include_colab_link": true
    },
    "kernelspec": {
      "name": "python3",
      "display_name": "Python 3"
    },
    "accelerator": "GPU"
  },
  "cells": [
    {
      "cell_type": "markdown",
      "metadata": {
        "id": "view-in-github",
        "colab_type": "text"
      },
      "source": [
        "<a href=\"https://colab.research.google.com/github/STEMlib/deeplearning/blob/main/LogRegColab.ipynb\" target=\"_parent\"><img src=\"https://colab.research.google.com/assets/colab-badge.svg\" alt=\"Open In Colab\"/></a>"
      ]
    },
    {
      "cell_type": "markdown",
      "metadata": {
        "id": "qRPDI4A9yxZh"
      },
      "source": [
        "# Setup"
      ]
    },
    {
      "cell_type": "code",
      "metadata": {
        "id": "CMgMqhslzfJn"
      },
      "source": [
        "import torch\n",
        "import torch.nn as nn\n",
        "import torch.nn.functional as F\n",
        "import torch.optim as optim\n",
        "import torchvision\n",
        "from torchvision import transforms, datasets\n",
        "import matplotlib.pyplot as plt\n",
        "import numpy as np\n",
        "\n",
        "\n",
        "def class_weights(dataset):    \n",
        "    '''\n",
        "    Creates weights for each class. \n",
        "    Used to balance sampling\n",
        "    '''       \n",
        "    target = dataset.targets\n",
        "    class_sample_count = np.unique(target, return_counts=True)[1]\n",
        "    weight = 1. / class_sample_count\n",
        "    samples_weight = np.array([weight[t] for t in target])\n",
        "    samples_weight = torch.from_numpy(samples_weight)\n",
        "    samples_weight = weight[target]\n",
        "    return samples_weight\n",
        "\n",
        "\n",
        "def balance_checker(dataset):\n",
        "    '''\n",
        "    Checks the balance of the classes\n",
        "    '''\n",
        "    total = 0\n",
        "    counter_dict = {0:0, 1:0, 2:0, 3:0, 4:0, 5:0, 6:0, 7:0, 8:0, 9:0}\n",
        "    for data in trainset:\n",
        "        Xs, ys = data\n",
        "        for y in ys:\n",
        "            counter_dict[int(y)] += 1\n",
        "            total += 1\n",
        "    for i in counter_dict:\n",
        "        print(f\"{i}: {counter_dict[i]/total*100.0}%\")\n",
        "\n",
        "\n",
        "def import_data():\n",
        "    '''\n",
        "    Classes defined as\n",
        "    airplane : 0\n",
        "    automobile : 1\n",
        "    bird : 2\n",
        "    cat : 3\n",
        "    deer : 4\n",
        "    dog : 5\n",
        "    frog : 6\n",
        "    horse : 7\n",
        "    ship : 8\n",
        "    truck : 9\n",
        "    '''\n",
        "    chosen_class = 3\n",
        "\n",
        "    # import data\n",
        "    transform_train = transforms.Compose([transforms.ToTensor(),transforms.Normalize((0.5, 0.5, 0.5),(0.5, 0.5, 0.5))])\n",
        "    train = torchvision.datasets.CIFAR10('./data',train=True,download=False,transform = transform_train)\n",
        "    test = torchvision.datasets.CIFAR10('./data',train=False,download=False,transform = transform_train)\n",
        "\n",
        "    train.targets = [(target == chosen_class)*1 for target in train.targets] # convert train target to [0,1] for chosen class\n",
        "    test.targets = [(target == chosen_class)*1 for target in test.targets] # convert test targets to [0,1] for chosen class\n",
        "\n",
        "    # For unbalanced dataset we create a weighted sampler   \n",
        "    ## train set                    \n",
        "    train_weights = class_weights(train)                                         \n",
        "    train_sampler = torch.utils.data.sampler.WeightedRandomSampler(train_weights, len(train_weights))      \n",
        "    trainset = torch.utils.data.DataLoader(train, batch_size = 32, sampler = train_sampler)\n",
        "    print(\"\\n ~~~ Train Set Balance ~~~ \\n\")\n",
        "    balance_checker(trainset)\n",
        "    ## test set\n",
        "    test_weights = class_weights(test)                                                                                                     \n",
        "    test_sampler = torch.utils.data.sampler.WeightedRandomSampler(test_weights, len(test_weights)) \n",
        "    testset = torch.utils.data.DataLoader(test, batch_size = 32, sampler = test_sampler)\n",
        "    print(\"\\n ~~~ Test Set Balance ~~~ \\n\")\n",
        "    balance_checker(testset)\n",
        "\n",
        "    \n",
        "    return trainset, testset\n",
        "    \n",
        "class logreg_net(nn.Module):\n",
        "    '''\n",
        "    Logistic Regression using a neural net\n",
        "      - One input layer\n",
        "      - One hidden layer\n",
        "      - One output layer\n",
        "    '''\n",
        "\n",
        "    #initialize\n",
        "    def __init__(self):    \n",
        "        super().__init__()\n",
        "        self.layer1 = nn.Linear(3*32*32, 64)\n",
        "        self.layer2 = nn.Linear(64, 64)\n",
        "        self.layer3 = nn.Linear(64, 2)\n",
        "\n",
        "\n",
        "    # forward\n",
        "    def forward(self,x):        \n",
        "        x = F.relu(self.layer1(x)) \n",
        "        x = F.relu(self.layer2(x))\n",
        "        x = self.layer3(x)\n",
        "        return F.log_softmax(x,dim=1)\n",
        "\n",
        "\n",
        "def train_model(num_epoches):\n",
        "    # train\n",
        "    device = torch.device(\"cuda:0\" if torch.cuda.is_available() else \"cpu\")\n",
        "    model = logreg_net().to(device)\n",
        "    optimizer = optim.Adam(model.parameters(),lr=0.0005)\n",
        "    EPOCHS = num_epoches\n",
        "    for epoch in range(EPOCHS):\n",
        "        for data in trainset:\n",
        "            X, y = data\n",
        "            model.zero_grad()\n",
        "            output = model(X.view(-1,img_shape).to(device))\n",
        "            loss = F.nll_loss(output,y.to(device))\n",
        "            loss.backward()\n",
        "            optimizer.step()\n",
        "        print(\"Loss = \", loss)\n",
        "\n",
        "\n",
        "def eval_model():\n",
        "    # Evaluate\n",
        "    device = torch.device(\"cuda:0\" if torch.cuda.is_available() else \"cpu\")\n",
        "    model = logreg_net().to(device)\n",
        "    correct = 0\n",
        "    total = 0\n",
        "    with torch.no_grad():\n",
        "        for data in testset:\n",
        "            X, y = data\n",
        "            output = model(X.view(-1,img_shape).to(device))\n",
        "            #print(output)\n",
        "            for idx, i in enumerate(output):\n",
        "                #print(torch.argmax(i), y[idx])\n",
        "                if torch.argmax(i) == y[idx]:\n",
        "                    correct += 1\n",
        "                total += 1\n",
        "    print(\"Accuracy: \", round(correct/total, 3))\n",
        "\n",
        "\n",
        "def main():\n",
        "\n",
        "    print(\"Device Count: \",torch.cuda.device_count())\n",
        "    print(\"Device Name: \", torch.cuda.get_device_name(0))\n",
        "\n",
        "    device = torch.device(\"cuda:0\" if torch.cuda.is_available() else \"cpu\")\n",
        "    trainset, testset = import_data()\n",
        "    train_model(num_epoches=20)\n",
        "    eval_model(model=model)\n",
        "    \n"
      ],
      "execution_count": 153,
      "outputs": []
    },
    {
      "cell_type": "markdown",
      "metadata": {
        "id": "1FOrFbU_y0jU"
      },
      "source": [
        "# Import Data (CIFAR10)"
      ]
    },
    {
      "cell_type": "code",
      "metadata": {
        "id": "KIaPUAAr3Mvq",
        "outputId": "2ae9f308-0027-40db-f750-3d80394b75a3",
        "colab": {
          "base_uri": "https://localhost:8080/"
        }
      },
      "source": [
        "print(\"Device Count: \",torch.cuda.device_count())\n",
        "print(\"Device Name: \", torch.cuda.get_device_name(0))\n",
        "\n",
        "device = torch.device(\"cuda:0\" if torch.cuda.is_available() else \"cpu\")\n",
        "trainset, testset = import_data()\n"
      ],
      "execution_count": 135,
      "outputs": [
        {
          "output_type": "stream",
          "text": [
            "Device Count:  1\n",
            "Device Name:  Tesla T4\n",
            "\n",
            " ~~~ Train Set Balance ~~~ \n",
            "\n",
            "0: 50.086%\n",
            "1: 49.913999999999994%\n",
            "2: 0.0%\n",
            "3: 0.0%\n",
            "4: 0.0%\n",
            "5: 0.0%\n",
            "6: 0.0%\n",
            "7: 0.0%\n",
            "8: 0.0%\n",
            "9: 0.0%\n",
            "\n",
            " ~~~ Test Set Balance ~~~ \n",
            "\n",
            "0: 49.826%\n",
            "1: 50.174%\n",
            "2: 0.0%\n",
            "3: 0.0%\n",
            "4: 0.0%\n",
            "5: 0.0%\n",
            "6: 0.0%\n",
            "7: 0.0%\n",
            "8: 0.0%\n",
            "9: 0.0%\n"
          ],
          "name": "stdout"
        }
      ]
    },
    {
      "cell_type": "markdown",
      "metadata": {
        "id": "W8_7L26ly9UD"
      },
      "source": [
        "# Train Model"
      ]
    },
    {
      "cell_type": "code",
      "metadata": {
        "id": "M9BZOjtzyqqq",
        "outputId": "7d5c7277-36d1-4cc2-9038-170821f03239",
        "colab": {
          "base_uri": "https://localhost:8080/"
        }
      },
      "source": [
        "train_model(num_epoches=7)"
      ],
      "execution_count": 154,
      "outputs": [
        {
          "output_type": "stream",
          "text": [
            "Loss =  tensor(0.4088, device='cuda:0', grad_fn=<NllLossBackward>)\n",
            "Loss =  tensor(0.5285, device='cuda:0', grad_fn=<NllLossBackward>)\n",
            "Loss =  tensor(0.2246, device='cuda:0', grad_fn=<NllLossBackward>)\n",
            "Loss =  tensor(0.2711, device='cuda:0', grad_fn=<NllLossBackward>)\n",
            "Loss =  tensor(0.2632, device='cuda:0', grad_fn=<NllLossBackward>)\n",
            "Loss =  tensor(0.3271, device='cuda:0', grad_fn=<NllLossBackward>)\n",
            "Loss =  tensor(0.1764, device='cuda:0', grad_fn=<NllLossBackward>)\n"
          ],
          "name": "stdout"
        }
      ]
    },
    {
      "cell_type": "markdown",
      "metadata": {
        "id": "GevcLzIM1pyy"
      },
      "source": [
        "# Evaluate Model"
      ]
    },
    {
      "cell_type": "code",
      "metadata": {
        "id": "owaeFTijyqtg",
        "outputId": "61f3586e-bf30-4681-c6ec-4250c10fdbd0",
        "colab": {
          "base_uri": "https://localhost:8080/"
        }
      },
      "source": [
        "eval_model()"
      ],
      "execution_count": 155,
      "outputs": [
        {
          "output_type": "stream",
          "text": [
            "Accuracy:  0.51\n"
          ],
          "name": "stdout"
        }
      ]
    },
    {
      "cell_type": "code",
      "metadata": {
        "id": "-2pO4KgK1siK"
      },
      "source": [
        ""
      ],
      "execution_count": null,
      "outputs": []
    }
  ]
}